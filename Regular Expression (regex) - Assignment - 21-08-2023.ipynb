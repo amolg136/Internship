{
 "cells": [
  {
   "cell_type": "code",
   "execution_count": 2,
   "id": "d0bc6679",
   "metadata": {
    "scrolled": true
   },
   "outputs": [],
   "source": [
    "import pandas as pd\n",
    "import numpy as np\n",
    "import regex as re"
   ]
  },
  {
   "cell_type": "markdown",
   "id": "4ad76796",
   "metadata": {},
   "source": [
    "# Question 1"
   ]
  },
  {
   "cell_type": "code",
   "execution_count": 2,
   "id": "04f2e498",
   "metadata": {
    "scrolled": true
   },
   "outputs": [
    {
     "name": "stdout",
     "output_type": "stream",
     "text": [
      "Python:Exercises::PHP:Exercises:\n"
     ]
    }
   ],
   "source": [
    "Text_1 = 'Python Exercises, PHP Exercises.'\n",
    "Pattern_1 = re.sub(\"[ ,.]\", \":\", Text_1)\n",
    "\n",
    "print (Pattern_1)"
   ]
  },
  {
   "cell_type": "markdown",
   "id": "b7df9abc",
   "metadata": {},
   "source": [
    "# Question 2"
   ]
  },
  {
   "cell_type": "code",
   "execution_count": 3,
   "id": "47f83294",
   "metadata": {
    "scrolled": true
   },
   "outputs": [
    {
     "name": "stdout",
     "output_type": "stream",
     "text": [
      "['are', 'ever', 'et', 'another', 'al', 'eam', 'ew', 'eam']\n"
     ]
    }
   ],
   "source": [
    "Text_2 = \"You are never too old to set another goal or to dream a new dream.\"\n",
    "Pattern_2 = '[ae][\\w]+'\n",
    "\n",
    "fun_2 = re.findall(Pattern_2, Text_2)\n",
    "print (fun_2)"
   ]
  },
  {
   "cell_type": "markdown",
   "id": "04d5a103",
   "metadata": {},
   "source": [
    "# Question 3"
   ]
  },
  {
   "cell_type": "code",
   "execution_count": 4,
   "id": "a409fde5",
   "metadata": {
    "scrolled": true
   },
   "outputs": [
    {
     "name": "stdout",
     "output_type": "stream",
     "text": [
      "['goal']\n"
     ]
    }
   ],
   "source": [
    "Text_3 = \"You are never too old to set another goal or to dream a new dream.\"\n",
    "Pattern_3 = re.compile(r\"\\b\\w{4}\\b\")\n",
    "\n",
    "fun_3 = Pattern_3.findall(Text_3)\n",
    "print (fun_3)"
   ]
  },
  {
   "cell_type": "markdown",
   "id": "e2b3c30c",
   "metadata": {},
   "source": [
    "# Question 4"
   ]
  },
  {
   "cell_type": "code",
   "execution_count": 5,
   "id": "8eb43531",
   "metadata": {
    "scrolled": true
   },
   "outputs": [
    {
     "name": "stdout",
     "output_type": "stream",
     "text": [
      "['You', 'are', 'never', 'too', 'old', 'set', 'goal', 'dream', 'new', 'dream']\n"
     ]
    }
   ],
   "source": [
    "Text_4 = \"You are never too old to set another goal or to dream a new dream.\"\n",
    "Pattern_4 = re.compile(r\"\\b\\w{3,5}\\b\")\n",
    "\n",
    "fun_4 = Pattern_4.findall(Text_4)\n",
    "print (fun_4)"
   ]
  },
  {
   "cell_type": "markdown",
   "id": "3fab11bf",
   "metadata": {},
   "source": [
    "# Question 5"
   ]
  },
  {
   "cell_type": "code",
   "execution_count": 6,
   "id": "b0f593bb",
   "metadata": {
    "scrolled": true
   },
   "outputs": [
    {
     "name": "stdout",
     "output_type": "stream",
     "text": [
      "example (.com)\n",
      "hr@fliprobo (.com)\n",
      "github (.com)\n",
      "Hello (Data Science World)\n",
      "Data (Scientist)\n"
     ]
    }
   ],
   "source": [
    "Text_5 = [\"example (.com)\", \"hr@fliprobo (.com)\", \"github (.com)\", \"Hello (Data Science World)\", \"Data (Scientist)\"]\n",
    "for i in Text_5:\n",
    "    print(re.sub(\" ?\\([^)].\\)\", \"\", i))"
   ]
  },
  {
   "cell_type": "markdown",
   "id": "a295dd1a",
   "metadata": {},
   "source": [
    "# Question 6"
   ]
  },
  {
   "cell_type": "code",
   "execution_count": 7,
   "id": "964f436a",
   "metadata": {
    "scrolled": true
   },
   "outputs": [
    {
     "name": "stdout",
     "output_type": "stream",
     "text": [
      "['example']\n",
      "['hr@fliprobo']\n",
      "['github']\n",
      "['Hello']\n",
      "['Data']\n"
     ]
    }
   ],
   "source": [
    "Text_6 = [\"example (.com)\", \"hr@fliprobo (.com)\", \"github (.com)\", \"Hello (Data Science World)\", \"Data (Scientist)\"]\n",
    "for i in Text_6:\n",
    "    print([re.sub(\" ?\\([^)]+\\)\", \"\", i)])"
   ]
  },
  {
   "cell_type": "markdown",
   "id": "c6bdb7c9",
   "metadata": {},
   "source": [
    "# Question 7"
   ]
  },
  {
   "cell_type": "code",
   "execution_count": 8,
   "id": "2bdb5ff5",
   "metadata": {
    "scrolled": true
   },
   "outputs": [
    {
     "name": "stdout",
     "output_type": "stream",
     "text": [
      "['Importance', 'Of', 'Regular', 'Expressions', 'In', 'Python']\n"
     ]
    }
   ],
   "source": [
    "Text_7 = \"ImportanceOfRegularExpressionsInPython\"\n",
    "Pattern_7 = re.findall('[A-Z][^A-Z]*', Text_7)\n",
    "\n",
    "print ((Pattern_7))"
   ]
  },
  {
   "cell_type": "markdown",
   "id": "e52d91cb",
   "metadata": {},
   "source": [
    "# Question 8"
   ]
  },
  {
   "cell_type": "code",
   "execution_count": 9,
   "id": "7744eca3",
   "metadata": {
    "scrolled": true
   },
   "outputs": [
    {
     "name": "stdout",
     "output_type": "stream",
     "text": [
      "RegularExpression IsAn ImportantTopic InPython\n"
     ]
    }
   ],
   "source": [
    "Text_8 = \"RegularExpression1IsAn2ImportantTopic3InPython\"\n",
    "\n",
    "Pattern_8 = re.findall('\\D+[^0-9]*', Text_8)\n",
    "print (\" \".join(Pattern_8))"
   ]
  },
  {
   "cell_type": "markdown",
   "id": "6ca203ed",
   "metadata": {},
   "source": [
    "# Question 9"
   ]
  },
  {
   "cell_type": "code",
   "execution_count": 10,
   "id": "ced98b67",
   "metadata": {
    "scrolled": true
   },
   "outputs": [
    {
     "name": "stdout",
     "output_type": "stream",
     "text": [
      "RegularExpression 1 IsAn 2 ImportantTopic 3 InPython \n"
     ]
    }
   ],
   "source": [
    "Text_9 = \"RegularExpression1IsAn2ImportantTopic3InPython\"\n",
    "\n",
    "Pattern_9 = re.findall('\\D+|[0-9]*', Text_9)\n",
    "print (\" \".join(Pattern_9))"
   ]
  },
  {
   "cell_type": "markdown",
   "id": "3602564b",
   "metadata": {},
   "source": [
    "# Question 10"
   ]
  },
  {
   "cell_type": "code",
   "execution_count": 11,
   "id": "ae229239",
   "metadata": {
    "scrolled": true
   },
   "outputs": [
    {
     "name": "stdout",
     "output_type": "stream",
     "text": [
      "['xyz@domain.com', 'xyz.abc@sdomain.domain.com', 'hr@fliprobo.com']\n"
     ]
    }
   ],
   "source": [
    "Text_10 = \"Hello my name is Data Science and my email address is xyz@domain.com and alternate email address is, xyz.abc@sdomain.domain.com. Please contact us at hr@fliprobo.com for further information.\"\n",
    "Pattern_10 = r\"[a-z0-9\\.\\-+_]+@[a-z0-9\\.\\-+_]+\\.[a-z]+\"\n",
    "\n",
    "fun_10 = re.findall(Pattern_10, Text_10)\n",
    "print (fun_10)"
   ]
  },
  {
   "cell_type": "markdown",
   "id": "3559d549",
   "metadata": {},
   "source": [
    "# Question 11"
   ]
  },
  {
   "cell_type": "code",
   "execution_count": 12,
   "id": "eae5de0e",
   "metadata": {
    "scrolled": true
   },
   "outputs": [
    {
     "name": "stdout",
     "output_type": "stream",
     "text": [
      "String contains only upper case, lowercase, letters, numbers & underscores.\n"
     ]
    }
   ],
   "source": [
    "Text_11 = \"Data_Science_is_a_part_of_AI_1\"\n",
    "\n",
    "def fun(Text_11):\n",
    "        Pattern_11 = '^[a-zA-Z0-9_]*$'\n",
    "        if re.search(Pattern_11,  Text_11):\n",
    "                return 'String contains only upper case, lowercase, letters, numbers & underscores.'\n",
    "        else:\n",
    "                return('String DOES NOT contains only upper case, lowercase, letters, numbers & underscores.')\n",
    "\n",
    "print(fun(Text_11))"
   ]
  },
  {
   "cell_type": "markdown",
   "id": "1ab84933",
   "metadata": {},
   "source": [
    "# Question 12"
   ]
  },
  {
   "cell_type": "code",
   "execution_count": 13,
   "id": "b468942d",
   "metadata": {
    "scrolled": true
   },
   "outputs": [
    {
     "name": "stdout",
     "output_type": "stream",
     "text": [
      "String starts with number 1\n",
      "None\n"
     ]
    }
   ],
   "source": [
    "Text_12 = \"123456789\"\n",
    "\n",
    "def fun(Text_12):\n",
    "    Pattern_12 = re.compile(r\"^1\")\n",
    "    \n",
    "    if Pattern_12.match(Text_12):\n",
    "        print (\"String starts with number 1\")\n",
    "    else:\n",
    "        print (\"String DOES NOT starts with number 1\")\n",
    "print(fun(Text_12))"
   ]
  },
  {
   "cell_type": "markdown",
   "id": "80dbfd3f",
   "metadata": {},
   "source": [
    "# Question 13"
   ]
  },
  {
   "cell_type": "code",
   "execution_count": 14,
   "id": "509d40b6",
   "metadata": {
    "scrolled": true
   },
   "outputs": [
    {
     "name": "stdout",
     "output_type": "stream",
     "text": [
      "10.20.44.36\n"
     ]
    }
   ],
   "source": [
    "Text_13 = \"10.20.044.036\"\n",
    "Pattern_13 = re.sub('\\.[0]*', '.', Text_13)\n",
    "print(Pattern_13)"
   ]
  },
  {
   "cell_type": "markdown",
   "id": "029c0467",
   "metadata": {
    "scrolled": true
   },
   "source": [
    "# Question 14"
   ]
  },
  {
   "cell_type": "code",
   "execution_count": 34,
   "id": "6049f703",
   "metadata": {
    "scrolled": true
   },
   "outputs": [
    {
     "ename": "SyntaxError",
     "evalue": "invalid syntax (2704397166.py, line 1)",
     "output_type": "error",
     "traceback": [
      "\u001b[1;36m  File \u001b[1;32m\"C:\\Users\\ad\\AppData\\Local\\Temp\\ipykernel_1552\\2704397166.py\"\u001b[1;36m, line \u001b[1;32m1\u001b[0m\n\u001b[1;33m    Text_14 = \"On August 15th 1947 that India was declared independent from British colonialism, and the reins of control were handed over to the leaders of the Country\".\u001b[0m\n\u001b[1;37m                                                                                                                                                                          ^\u001b[0m\n\u001b[1;31mSyntaxError\u001b[0m\u001b[1;31m:\u001b[0m invalid syntax\n"
     ]
    }
   ],
   "source": [
    "Text_14 = \"On August 15th 1947 that India was declared independent from British colonialism, and the reins of control were handed over to the leaders of the Country\".\n"
   ]
  },
  {
   "cell_type": "markdown",
   "id": "ea809b18",
   "metadata": {},
   "source": [
    "# Question 15"
   ]
  },
  {
   "cell_type": "code",
   "execution_count": 35,
   "id": "fdf6927a",
   "metadata": {
    "scrolled": true
   },
   "outputs": [
    {
     "name": "stdout",
     "output_type": "stream",
     "text": [
      "['fox', 'dog']\n"
     ]
    }
   ],
   "source": [
    "Text_15 = 'The quick brown fox jumps over the lazy dog.'    \n",
    "Pattern_15 = 'f[a-zA-Z]+x|d[a-zA-Z]+g'\n",
    "\n",
    "fun_15 = re.findall(Pattern_15, Text_15)\n",
    "print (fun_15)"
   ]
  },
  {
   "cell_type": "markdown",
   "id": "c34d2f6e",
   "metadata": {},
   "source": [
    "# Question 16"
   ]
  },
  {
   "cell_type": "code",
   "execution_count": 36,
   "id": "482125b9",
   "metadata": {
    "scrolled": true
   },
   "outputs": [
    {
     "name": "stdout",
     "output_type": "stream",
     "text": [
      "<regex.Match object; span=(16, 19), match='fox'>\n"
     ]
    }
   ],
   "source": [
    "Text_16 = [\"The quick brown fox jumps over the lazy dog.\"]\n",
    "for string in Text_16:\n",
    "    fun_16 = re.search(\"fox\", string)\n",
    "    print (fun_16)"
   ]
  },
  {
   "cell_type": "markdown",
   "id": "fb1bc403",
   "metadata": {},
   "source": [
    "# Question 17"
   ]
  },
  {
   "cell_type": "code",
   "execution_count": 37,
   "id": "61ed6d0e",
   "metadata": {
    "scrolled": true
   },
   "outputs": [
    {
     "name": "stdout",
     "output_type": "stream",
     "text": [
      "['exercises', 'exercises', 'exercises']\n"
     ]
    }
   ],
   "source": [
    "Text_17 = 'Python exercises, PHP exercises, C# exercises'\n",
    "Pattern = \"exercises\"\n",
    "\n",
    "fun = re.findall (Pattern, Text_17)\n",
    "print (fun)"
   ]
  },
  {
   "cell_type": "markdown",
   "id": "db5f6812",
   "metadata": {},
   "source": [
    "# Question 18"
   ]
  },
  {
   "cell_type": "code",
   "execution_count": 38,
   "id": "3b81d420",
   "metadata": {
    "scrolled": true
   },
   "outputs": [
    {
     "name": "stdout",
     "output_type": "stream",
     "text": [
      "<regex.Match object; span=(14, 17), match='too'>\n",
      "too\n"
     ]
    }
   ],
   "source": [
    "Text_18 = \"You are never too old to set another goal or to dream a new dream.\"\n",
    "fun_18 = re.search(r\"\\btoo\\b\", Text_18)\n",
    "\n",
    "print(fun_18)\n",
    "print(fun_18.group())"
   ]
  },
  {
   "cell_type": "markdown",
   "id": "8f7d2c79",
   "metadata": {},
   "source": [
    "# Question 19"
   ]
  },
  {
   "cell_type": "code",
   "execution_count": 39,
   "id": "0b64c7e8",
   "metadata": {
    "scrolled": true
   },
   "outputs": [
    {
     "name": "stdout",
     "output_type": "stream",
     "text": [
      "Enter Date in YYYY-MM-DD Format :- 1987-06-13\n",
      "Output Date in DD-MM-YYYY Format :- 13-06-1987\n"
     ]
    }
   ],
   "source": [
    "Text_19 = input(\"Enter Date in YYYY-MM-DD Format :- \")\n",
    "\n",
    "def fun_19(date):\n",
    "        return re.sub(r'(\\d{4})-(\\d{1,2})-(\\d{1,2})', '\\\\3-\\\\2-\\\\1', date)\n",
    "\n",
    "print(\"Output Date in DD-MM-YYYY Format :-\",fun_19(Text_19))"
   ]
  },
  {
   "cell_type": "markdown",
   "id": "8ecca3c9",
   "metadata": {
    "scrolled": true
   },
   "source": [
    "# Question 20"
   ]
  },
  {
   "cell_type": "code",
   "execution_count": 40,
   "id": "03774864",
   "metadata": {
    "scrolled": true
   },
   "outputs": [
    {
     "name": "stdout",
     "output_type": "stream",
     "text": [
      "All decimal numbers with a precision of 1 or 2 : \n",
      "None\n"
     ]
    }
   ],
   "source": [
    "Text_20 = \"01.12 0132.123 2.31875 145.8 3.01 27.25 0.25\"\n",
    "Pattern_20 = '%.2f'\n",
    "fun_20 = re.match(Pattern_20, Text_20)\n",
    "\n",
    "print(\"All decimal numbers with a precision of 1 or 2 : \")\n",
    "print(fun_20)"
   ]
  },
  {
   "cell_type": "markdown",
   "id": "de27fe71",
   "metadata": {},
   "source": [
    "# Question 21"
   ]
  },
  {
   "cell_type": "code",
   "execution_count": 41,
   "id": "bd13e9b9",
   "metadata": {
    "scrolled": true
   },
   "outputs": [
    {
     "name": "stdout",
     "output_type": "stream",
     "text": [
      "123\n",
      "Index position: 10\n",
      "234\n",
      "Index position: 25\n"
     ]
    }
   ],
   "source": [
    "Text_21 = \"There are 123 Mangos and 234 Oranges.\"\n",
    "\n",
    "for int in re.finditer(\"\\d+\", Text_21):\n",
    "    print(int.group(0))\n",
    "    print(\"Index position:\", int.start())"
   ]
  },
  {
   "cell_type": "markdown",
   "id": "82bcbc69",
   "metadata": {},
   "source": [
    "# Question 22"
   ]
  },
  {
   "cell_type": "code",
   "execution_count": 3,
   "id": "9c9a61e5",
   "metadata": {
    "scrolled": true
   },
   "outputs": [
    {
     "name": "stdout",
     "output_type": "stream",
     "text": [
      "950\n"
     ]
    }
   ],
   "source": [
    "Text_22 = 'My marks in each semester are: 947, 896, 926, 524, 734, 950, 642'\n",
    "\n",
    "Pattern_22 = re.findall(\"\\d+\", Text_22)\n",
    "fun_22 = map(int, Pattern_22)\n",
    "print(max(fun_22))"
   ]
  },
  {
   "cell_type": "markdown",
   "id": "a3c5739b",
   "metadata": {},
   "source": [
    "# Question 23"
   ]
  },
  {
   "cell_type": "code",
   "execution_count": 43,
   "id": "7239fa78",
   "metadata": {
    "scrolled": true
   },
   "outputs": [
    {
     "name": "stdout",
     "output_type": "stream",
     "text": [
      "Regular Expression Is An Important Topic In Python\n"
     ]
    }
   ],
   "source": [
    "Text_23 = \"RegularExpressionIsAnImportantTopicInPython\"\n",
    "\n",
    "Pattern_23 = re.findall('[A-Z][^A-Z]*', Text_23)\n",
    "print (\" \".join(Pattern_23))"
   ]
  },
  {
   "cell_type": "markdown",
   "id": "83fc30ad",
   "metadata": {},
   "source": [
    "# Question 24"
   ]
  },
  {
   "cell_type": "code",
   "execution_count": 44,
   "id": "fd373ca5",
   "metadata": {
    "scrolled": true
   },
   "outputs": [
    {
     "name": "stdout",
     "output_type": "stream",
     "text": [
      "Please enter the Text :- Amol\n",
      "String follows one UPPERCAS letter followed by lowercase letters\n"
     ]
    }
   ],
   "source": [
    "Text_24 = input(\"Please enter the Text :- \")\n",
    "\n",
    "def fun_24(Text_24):\n",
    "        Pattern_24 = '[A-Z]+[a-z]+$'\n",
    "        if re.search(Pattern_24, Text_24):\n",
    "                return 'String follows one UPPERCAS letter followed by lowercase letters'\n",
    "        else:\n",
    "                return('String DOES NOT follows one UPPERCAS letter followed by lowercase letters')\n",
    "print(fun_24(Text_24))"
   ]
  },
  {
   "cell_type": "markdown",
   "id": "ad3e5a5f",
   "metadata": {},
   "source": [
    "# Question 25"
   ]
  },
  {
   "cell_type": "code",
   "execution_count": 45,
   "id": "5ba8afee",
   "metadata": {
    "scrolled": true
   },
   "outputs": [
    {
     "name": "stdout",
     "output_type": "stream",
     "text": [
      "Hello hello world\n"
     ]
    }
   ],
   "source": [
    "Text_25 = \"Hello hello world world\"\n",
    "Pattern_25 = r'\\b(\\w+)(?:\\W+\\1\\b)+'\n",
    "\n",
    "fun_25 = re.sub(Pattern_25, r'\\1', Text_25)\n",
    "print (fun_25)"
   ]
  },
  {
   "cell_type": "markdown",
   "id": "ea1fe4a2",
   "metadata": {},
   "source": [
    "# Question 26"
   ]
  },
  {
   "cell_type": "code",
   "execution_count": 46,
   "id": "6605fc4c",
   "metadata": {
    "scrolled": true
   },
   "outputs": [
    {
     "name": "stdout",
     "output_type": "stream",
     "text": [
      "String ends with alphanumeric charecter.\n"
     ]
    }
   ],
   "source": [
    "def fun_26(Text_26):\n",
    "    Pattern_26 = '[0-9]$'\n",
    "    \n",
    "    if(re.search(Pattern_26, Text_26)):\n",
    "        return \"String ends with alphanumeric charecter.\"\n",
    "          \n",
    "    else:  \n",
    "        return \"String does not ends with alphanumeric charecter.\"\n",
    " \n",
    "print(fun_26(\"ABCDEF123\"))"
   ]
  },
  {
   "cell_type": "markdown",
   "id": "975f777c",
   "metadata": {},
   "source": [
    "# Question 27"
   ]
  },
  {
   "cell_type": "code",
   "execution_count": 47,
   "id": "c11f5089",
   "metadata": {},
   "outputs": [
    {
     "name": "stdout",
     "output_type": "stream",
     "text": [
      "Doltiwal\n",
      "xyzabc\n",
      "Demonetization\n"
     ]
    }
   ],
   "source": [
    "Text_27 = \"\"\"RT @kapil_kausik: #Doltiwal I mean #xyzabc is \"hurt\" by #Demonetization as the same has rendered USELESS <ed><U+00A0><U+00BD><ed><U+00B1><U+0089> \"acquired funds\" No wo\"\"\"\n",
    "Pattern_27 = Text_27.split()\n",
    "\n",
    "for i in Pattern_27:\n",
    "    if(i.startswith(\"#\")):\n",
    "        Str_27 = i.replace(\"#\", '')\n",
    "        print(Str_27)"
   ]
  },
  {
   "cell_type": "markdown",
   "id": "476d09cd",
   "metadata": {},
   "source": [
    "# Question 28"
   ]
  },
  {
   "cell_type": "code",
   "execution_count": 48,
   "id": "c0fe1533",
   "metadata": {},
   "outputs": [
    {
     "name": "stdout",
     "output_type": "stream",
     "text": [
      "New String :-  @Jags123456 Bharat band on 28??Those who are protesting #demonetization are all different party leaders\n"
     ]
    }
   ],
   "source": [
    "Text_29 = \"@Jags123456 Bharat band on 28??<ed><U+00A0><U+00BD><ed><U+00B8><U+0082>Those who are protesting #demonetization are all different party leaders\"\n",
    "\n",
    "Pattern_29 = Text_29.replace('<ed><U+00A0><U+00BD><ed><U+00B8><U+0082>', '')\n",
    "\n",
    "print(\"New String :- \", Pattern_29)"
   ]
  },
  {
   "cell_type": "markdown",
   "id": "28edea0c",
   "metadata": {},
   "source": [
    "# Question 29"
   ]
  },
  {
   "cell_type": "code",
   "execution_count": 49,
   "id": "be967eb8",
   "metadata": {},
   "outputs": [
    {
     "name": "stdout",
     "output_type": "stream",
     "text": [
      "['12-09-1992', '15-12-1999']\n"
     ]
    }
   ],
   "source": [
    "Text_29 = \"Ron was born on 12-09-1992 and he was admitted to school 15-12-1999.\"\n",
    "Pattern_29 = \"\\d{2}[/-]\\d{2}[/-]\\d{4}\"\n",
    "\n",
    "dates = re.findall(Pattern_29, Text_29)\n",
    "print(dates)"
   ]
  },
  {
   "cell_type": "markdown",
   "id": "54899f6d",
   "metadata": {},
   "source": [
    "# Question 30"
   ]
  },
  {
   "cell_type": "code",
   "execution_count": 50,
   "id": "7398db6c",
   "metadata": {
    "scrolled": true
   },
   "outputs": [
    {
     "name": "stdout",
     "output_type": "stream",
     "text": [
      " following example creates ArrayList a capacity elements. 4 elements added ArrayList ArrayList trimmed accordingly.\n"
     ]
    }
   ],
   "source": [
    "Text_30 = \"The following example creates an ArrayList with a capacity of 50 elements. 4 elements are then added to the ArrayList and the ArrayList is trimmed accordingly.\"\n",
    "\n",
    "Pattern_30 = re.compile(r'\\W*\\b\\w{2,4}\\b')\n",
    "print(Pattern_30.sub('', Text_30))"
   ]
  },
  {
   "cell_type": "code",
   "execution_count": null,
   "id": "a4616d07",
   "metadata": {},
   "outputs": [],
   "source": []
  }
 ],
 "metadata": {
  "kernelspec": {
   "display_name": "Python 3 (ipykernel)",
   "language": "python",
   "name": "python3"
  },
  "language_info": {
   "codemirror_mode": {
    "name": "ipython",
    "version": 3
   },
   "file_extension": ".py",
   "mimetype": "text/x-python",
   "name": "python",
   "nbconvert_exporter": "python",
   "pygments_lexer": "ipython3",
   "version": "3.9.13"
  }
 },
 "nbformat": 4,
 "nbformat_minor": 5
}
